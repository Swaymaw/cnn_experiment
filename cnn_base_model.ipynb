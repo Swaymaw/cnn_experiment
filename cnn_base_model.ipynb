{
  "nbformat": 4,
  "nbformat_minor": 0,
  "metadata": {
    "colab": {
      "provenance": [],
      "gpuType": "T4"
    },
    "kernelspec": {
      "name": "python3",
      "display_name": "Python 3"
    },
    "language_info": {
      "name": "python"
    },
    "accelerator": "GPU"
  },
  "cells": [
    {
      "cell_type": "code",
      "execution_count": 1,
      "metadata": {
        "id": "JAQGRLsBiFoL"
      },
      "outputs": [],
      "source": [
        "import torch\n",
        "import torchvision\n",
        "import torchvision.datasets as datasets\n",
        "from torchvision.transforms import ToTensor\n",
        "import torch.nn as nn\n",
        "from torch.utils.data import Dataset, DataLoader"
      ]
    },
    {
      "cell_type": "code",
      "source": [
        "mnist_train = datasets.MNIST(root='.', train=True, download=True, transform=ToTensor())\n",
        "mnist_test = datasets.MNIST(root='.', train=False, download=True, transform=ToTensor())"
      ],
      "metadata": {
        "colab": {
          "base_uri": "https://localhost:8080/"
        },
        "id": "Q4Lj9kZNmQAY",
        "outputId": "93855731-b702-462b-9b72-cd2c5ca98a56"
      },
      "execution_count": 2,
      "outputs": [
        {
          "output_type": "stream",
          "name": "stdout",
          "text": [
            "Downloading http://yann.lecun.com/exdb/mnist/train-images-idx3-ubyte.gz\n",
            "Downloading http://yann.lecun.com/exdb/mnist/train-images-idx3-ubyte.gz to ./MNIST/raw/train-images-idx3-ubyte.gz\n"
          ]
        },
        {
          "output_type": "stream",
          "name": "stderr",
          "text": [
            "100%|██████████| 9912422/9912422 [00:00<00:00, 92687274.68it/s]\n"
          ]
        },
        {
          "output_type": "stream",
          "name": "stdout",
          "text": [
            "Extracting ./MNIST/raw/train-images-idx3-ubyte.gz to ./MNIST/raw\n",
            "\n",
            "Downloading http://yann.lecun.com/exdb/mnist/train-labels-idx1-ubyte.gz\n",
            "Downloading http://yann.lecun.com/exdb/mnist/train-labels-idx1-ubyte.gz to ./MNIST/raw/train-labels-idx1-ubyte.gz\n"
          ]
        },
        {
          "output_type": "stream",
          "name": "stderr",
          "text": [
            "100%|██████████| 28881/28881 [00:00<00:00, 30706132.78it/s]\n"
          ]
        },
        {
          "output_type": "stream",
          "name": "stdout",
          "text": [
            "Extracting ./MNIST/raw/train-labels-idx1-ubyte.gz to ./MNIST/raw\n",
            "\n",
            "Downloading http://yann.lecun.com/exdb/mnist/t10k-images-idx3-ubyte.gz\n",
            "Downloading http://yann.lecun.com/exdb/mnist/t10k-images-idx3-ubyte.gz to ./MNIST/raw/t10k-images-idx3-ubyte.gz\n"
          ]
        },
        {
          "output_type": "stream",
          "name": "stderr",
          "text": [
            "100%|██████████| 1648877/1648877 [00:00<00:00, 26703108.19it/s]\n"
          ]
        },
        {
          "output_type": "stream",
          "name": "stdout",
          "text": [
            "Extracting ./MNIST/raw/t10k-images-idx3-ubyte.gz to ./MNIST/raw\n",
            "\n",
            "Downloading http://yann.lecun.com/exdb/mnist/t10k-labels-idx1-ubyte.gz\n",
            "Downloading http://yann.lecun.com/exdb/mnist/t10k-labels-idx1-ubyte.gz to ./MNIST/raw/t10k-labels-idx1-ubyte.gz\n"
          ]
        },
        {
          "output_type": "stream",
          "name": "stderr",
          "text": [
            "100%|██████████| 4542/4542 [00:00<00:00, 20418573.17it/s]\n"
          ]
        },
        {
          "output_type": "stream",
          "name": "stdout",
          "text": [
            "Extracting ./MNIST/raw/t10k-labels-idx1-ubyte.gz to ./MNIST/raw\n",
            "\n"
          ]
        }
      ]
    },
    {
      "cell_type": "code",
      "source": [
        "train_data = DataLoader(mnist_train, batch_size=4, shuffle=True, num_workers=2)"
      ],
      "metadata": {
        "id": "yMuGEq_tmgXj"
      },
      "execution_count": 3,
      "outputs": []
    },
    {
      "cell_type": "code",
      "source": [
        "test_data = DataLoader(mnist_test, batch_size=4, shuffle=True, num_workers=2)"
      ],
      "metadata": {
        "id": "lothPeYnyILO"
      },
      "execution_count": 4,
      "outputs": []
    },
    {
      "cell_type": "code",
      "source": [
        "import matplotlib.pyplot as plt\n",
        "data = next(iter(train_data))\n",
        "imgs = data[0]\n",
        "labels = data[1]\n",
        "img = imgs[0].permute(1, 2, 0)\n",
        "plt.imshow(img)\n",
        "plt.xlabel(labels[0].item())"
      ],
      "metadata": {
        "colab": {
          "base_uri": "https://localhost:8080/",
          "height": 467
        },
        "id": "6wrpqf1Lmi7b",
        "outputId": "117e4cd8-fadc-4b3c-8260-52364e3f353c"
      },
      "execution_count": 5,
      "outputs": [
        {
          "output_type": "execute_result",
          "data": {
            "text/plain": [
              "Text(0.5, 0, '0')"
            ]
          },
          "metadata": {},
          "execution_count": 5
        },
        {
          "output_type": "display_data",
          "data": {
            "text/plain": [
              "<Figure size 640x480 with 1 Axes>"
            ],
            "image/png": "[encoded data removed]"
          },
          "metadata": {}
        }
      ]
    },
    {
      "cell_type": "code",
      "source": [
        "class CNN_classifier(nn.Module):\n",
        "  def __init__(self):\n",
        "    super().__init__()\n",
        "    self.conv1 = nn.Conv2d(1, 32, kernel_size=3, padding=1)\n",
        "    self.conv2 = nn.Conv2d(32, 128, kernel_size=3, padding=1)\n",
        "    self.dense1 = nn.Linear(7*7*128, 10)\n",
        "    self.act = nn.LeakyReLU(0.2)\n",
        "    self.regularize = nn.Dropout(0.3)\n",
        "  def forward(self, x):\n",
        "    x = self.conv1(x)\n",
        "    x = nn.MaxPool2d(2)(x)\n",
        "    x = self.act(x)\n",
        "    x = self.conv2(x)\n",
        "    x = nn.MaxPool2d(2)(x)\n",
        "    x = self.act(x)\n",
        "    x = x.view((x.shape[0], -1))\n",
        "    x = self.regularize(x)\n",
        "    x = self.dense1(x)\n",
        "\n",
        "    return nn.functional.log_softmax(x, dim=1)\n",
        "\n",
        "def test():\n",
        "  x = torch.randn((5, 1, 28, 28))\n",
        "  classifier = CNN_classifier()\n",
        "  output = classifier.forward(x)\n",
        "  print(output)\n",
        "\n",
        "test()"
      ],
      "metadata": {
        "colab": {
          "base_uri": "https://localhost:8080/"
        },
        "id": "VkUPEbjmogGE",
        "outputId": "f90cf2bf-17c1-463f-f7c1-51e21ec3efd6"
      },
      "execution_count": 6,
      "outputs": [
        {
          "output_type": "stream",
          "name": "stdout",
          "text": [
            "tensor([[-2.0054, -2.5018, -2.5188, -2.5131, -2.1451, -2.5264, -2.3435, -2.3292,\n",
            "         -2.0879, -2.2297],\n",
            "        [-2.1004, -2.6882, -2.6063, -2.2631, -2.3186, -2.5993, -2.1951, -2.2157,\n",
            "         -1.9705, -2.3106],\n",
            "        [-2.3905, -2.3578, -2.5749, -2.2312, -1.9073, -2.7126, -2.6499, -2.0386,\n",
            "         -2.3507, -2.1268],\n",
            "        [-2.1971, -2.7424, -2.6134, -2.3398, -1.8508, -2.4454, -2.3396, -2.1197,\n",
            "         -2.3793, -2.2829],\n",
            "        [-2.3443, -2.4689, -2.3841, -2.3720, -2.4554, -2.3153, -2.2042, -2.3585,\n",
            "         -2.0773, -2.1268]], grad_fn=<LogSoftmaxBackward0>)\n"
          ]
        }
      ]
    },
    {
      "cell_type": "code",
      "source": [
        "from tqdm import tqdm\n",
        "classifier = CNN_classifier().to('cuda')\n",
        "optimizer = torch.optim.Adam(classifier.parameters(), lr = 1e-4)\n",
        "\n",
        "def train(epoch):\n",
        "  classifier.train()\n",
        "  for batch_idx, (features, labels) in tqdm(enumerate(train_data)):\n",
        "    optimizer.zero_grad()\n",
        "    output = classifier(features.to('cuda'))\n",
        "    loss = nn.functional.nll_loss(output, labels.to('cuda'))\n",
        "    loss.backward()\n",
        "    optimizer.step()\n",
        "    if batch_idx % log_interval == 0:\n",
        "      train_losses.append(loss.item())\n",
        "      train_counter.append(\n",
        "        (batch_idx*64) + ((epoch-1)*len(train_data.dataset)))\n",
        "      torch.save(classifier.state_dict(), 'model.pth')\n",
        "      torch.save(optimizer.state_dict(), 'optimizer.pth')\n"
      ],
      "metadata": {
        "id": "5csnvdmjq9d5"
      },
      "execution_count": 7,
      "outputs": []
    },
    {
      "cell_type": "code",
      "source": [
        "def test():\n",
        "  classifier.eval()\n",
        "  test_loss = 0\n",
        "  correct = 0\n",
        "  with torch.no_grad():\n",
        "    for data, target in test_data:\n",
        "      output = classifier(data.to('cuda'))\n",
        "      output = output.to('cpu')\n",
        "      test_loss += nn.functional.nll_loss(output, target).item()\n",
        "      pred = output.data.max(1, keepdim=True)[1]\n",
        "      correct += pred.eq(target.data.view_as(pred)).sum()\n",
        "  test_loss /= len(test_data.dataset)\n",
        "  test_losses.append(test_loss)"
      ],
      "metadata": {
        "id": "0ZvnyvXrx8nW"
      },
      "execution_count": 8,
      "outputs": []
    },
    {
      "cell_type": "code",
      "source": [
        "train_losses = []\n",
        "train_counter = []\n",
        "test_losses = []\n",
        "n_epochs = 9\n",
        "log_interval = 9\n",
        "test_counter = [i*len(train_data.dataset) for i in range(n_epochs+1)]\n",
        "\n",
        "for epoch in range(n_epochs):\n",
        "  train(epoch)\n",
        "  test()"
      ],
      "metadata": {
        "colab": {
          "base_uri": "https://localhost:8080/"
        },
        "id": "oCnjLc4Gx0DM",
        "outputId": "341eb619-25f6-460f-8fba-1bf1e9bbf985"
      },
      "execution_count": 9,
      "outputs": [
        {
          "output_type": "stream",
          "name": "stderr",
          "text": [
            "15000it [01:08, 220.47it/s]\n",
            "15000it [01:06, 227.02it/s]\n",
            "15000it [01:06, 224.96it/s]\n",
            "15000it [01:06, 225.97it/s]\n",
            "15000it [01:06, 225.33it/s]\n",
            "15000it [01:05, 229.20it/s]\n",
            "15000it [01:06, 226.32it/s]\n",
            "15000it [01:06, 224.83it/s]\n",
            "15000it [01:05, 230.35it/s]\n",
            "15000it [01:05, 229.82it/s]\n"
          ]
        }
      ]
    },
    {
      "cell_type": "code",
      "source": [
        "import matplotlib.pyplot as plt\n",
        "fig, axs = plt.subplots(2)\n",
        "axs[0].plot(train_counter, train_losses)\n",
        "\n",
        "\n",
        "axs[1].plot(test_counter[1:], test_losses)\n",
        "plt.show()\n"
      ],
      "metadata": {
        "colab": {
          "base_uri": "https://localhost:8080/",
          "height": 430
        },
        "id": "zQFpOACwyT4j",
        "outputId": "aa6849ea-c348-4626-a928-df3dcee44640"
      },
      "execution_count": 10,
      "outputs": [
        {
          "output_type": "display_data",
          "data": {
            "text/plain": [
              "<Figure size 640x480 with 2 Axes>"
            ],
            "image/png": "[encoded data removed]"
          },
          "metadata": {}
        }
      ]
    },
    {
      "cell_type": "code",
      "source": [
        "test = next(iter(test_data))\n",
        "img_test = test[0][0].view((1, 1, 28, 28))\n",
        "label_test = test[1][0]\n",
        "output = classifier(img_test.to('cuda'))\n",
        "img_test = img_test[0].permute((1, 2, 0))\n",
        "plt.imshow(img_test, cmap=plt.cm.binary)\n",
        "plt.xlabel(torch.argmax(output).item())"
      ],
      "metadata": {
        "colab": {
          "base_uri": "https://localhost:8080/",
          "height": 467
        },
        "id": "5n4ea2fN5OE2",
        "outputId": "242b8c4b-5db6-4eba-b128-fca2de35eda3"
      },
      "execution_count": 11,
      "outputs": [
        {
          "output_type": "execute_result",
          "data": {
            "text/plain": [
              "Text(0.5, 0, '4')"
            ]
          },
          "metadata": {},
          "execution_count": 11
        },
        {
          "output_type": "display_data",
          "data": {
            "text/plain": [
              "<Figure size 640x480 with 1 Axes>"
            ],
            "image/png": "[encoded data removed]"
          },
          "metadata": {}
        }
      ]
    },
    {
      "cell_type": "code",
      "source": [
        "accuracy = []\n",
        "\n",
        "for idx, (features, labels) in enumerate(test_data):\n",
        "  output=classifier(features.to('cuda'))\n",
        "  output = output.to('cpu')\n",
        "  for i in range(len(output)):\n",
        "    if torch.argmax(output[i]) == labels[i]:\n",
        "      accuracy.append(1)\n",
        "    else:\n",
        "      accuracy.append(0)\n",
        "print(sum(accuracy)/ len(accuracy))"
      ],
      "metadata": {
        "colab": {
          "base_uri": "https://localhost:8080/"
        },
        "id": "00d4IAHj6T9T",
        "outputId": "7b4b0ca5-d4b6-4400-dc47-23da588c28d1"
      },
      "execution_count": 12,
      "outputs": [
        {
          "output_type": "stream",
          "name": "stdout",
          "text": [
            "0.9885\n"
          ]
        }
      ]
    },
    {
      "cell_type": "code",
      "source": [
        "import numpy as np\n",
        "import pandas as pd\n",
        "dataframe = pd.read_csv('test.csv', header=0).to_numpy().astype(np.float32)\n",
        "dataframe = torch.from_numpy(dataframe).view(dataframe.shape[0], 1, 28, 28)\n",
        "print(dataframe.shape)"
      ],
      "metadata": {
        "colab": {
          "base_uri": "https://localhost:8080/"
        },
        "id": "k_bHvhmw8672",
        "outputId": "d3e49646-6f82-4364-dba2-02b9ff1d014a"
      },
      "execution_count": 13,
      "outputs": [
        {
          "output_type": "stream",
          "name": "stdout",
          "text": [
            "torch.Size([28000, 1, 28, 28])\n"
          ]
        }
      ]
    },
    {
      "cell_type": "code",
      "source": [
        "output = classifier(dataframe.to('cuda'))\n",
        "output = output.to('cpu')\n",
        "print(output.shape)"
      ],
      "metadata": {
        "colab": {
          "base_uri": "https://localhost:8080/"
        },
        "id": "mU9cseD-AzOw",
        "outputId": "23740ab3-5880-450b-dd51-a320cf59a05b"
      },
      "execution_count": 14,
      "outputs": [
        {
          "output_type": "stream",
          "name": "stdout",
          "text": [
            "torch.Size([28000, 10])\n"
          ]
        }
      ]
    },
    {
      "cell_type": "code",
      "source": [
        "submission = pd.read_csv('sample_submission.csv', header=0).to_numpy()\n",
        "print(submission)\n",
        "for i in range(output.shape[0]):\n",
        "  submission[i][1] = torch.argmax(output[i])\n",
        "print(submission)"
      ],
      "metadata": {
        "id": "907IDT4EDuQf",
        "colab": {
          "base_uri": "https://localhost:8080/"
        },
        "outputId": "b2303486-c35d-4554-d686-1dc954ae32fa"
      },
      "execution_count": 19,
      "outputs": [
        {
          "output_type": "stream",
          "name": "stdout",
          "text": [
            "[[    1     0]\n",
            " [    2     0]\n",
            " [    3     0]\n",
            " ...\n",
            " [27998     0]\n",
            " [27999     0]\n",
            " [28000     0]]\n",
            "[[    1     2]\n",
            " [    2     0]\n",
            " [    3     9]\n",
            " ...\n",
            " [27998     3]\n",
            " [27999     9]\n",
            " [28000     2]]\n"
          ]
        }
      ]
    },
    {
      "cell_type": "code",
      "source": [
        "final_submission = pd.DataFrame(submission, columns = ['ImageId', 'Label'])"
      ],
      "metadata": {
        "id": "KWzZEBLhaPdb"
      },
      "execution_count": 21,
      "outputs": []
    },
    {
      "cell_type": "code",
      "source": [
        "print(final_submission.head)"
      ],
      "metadata": {
        "colab": {
          "base_uri": "https://localhost:8080/"
        },
        "id": "sb6hHSWHbN4z",
        "outputId": "1017b16c-603d-4186-d0b0-8523aa95de7b"
      },
      "execution_count": 23,
      "outputs": [
        {
          "output_type": "stream",
          "name": "stdout",
          "text": [
            "<bound method NDFrame.head of        ImageId  Label\n",
            "0            1      2\n",
            "1            2      0\n",
            "2            3      9\n",
            "3            4      0\n",
            "4            5      3\n",
            "...        ...    ...\n",
            "27995    27996      9\n",
            "27996    27997      7\n",
            "27997    27998      3\n",
            "27998    27999      9\n",
            "27999    28000      2\n",
            "\n",
            "[28000 rows x 2 columns]>\n"
          ]
        }
      ]
    },
    {
      "cell_type": "code",
      "source": [
        "final_submission.to_csv('submission_v05.csv', index = False)"
      ],
      "metadata": {
        "id": "WDWM0cxTbTXK"
      },
      "execution_count": 24,
      "outputs": []
    },
    {
      "cell_type": "code",
      "source": [],
      "metadata": {
        "id": "RGvTk53Tbq4j"
      },
      "execution_count": null,
      "outputs": []
    }
  ]
}