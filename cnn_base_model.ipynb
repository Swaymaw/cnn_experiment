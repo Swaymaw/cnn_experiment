{
  "nbformat": 4,
  "nbformat_minor": 0,
  "metadata": {
    "colab": {
      "provenance": [],
      "gpuType": "T4"
    },
    "kernelspec": {
      "name": "python3",
      "display_name": "Python 3"
    },
    "language_info": {
      "name": "python"
    },
    "accelerator": "GPU"
  },
  "cells": [
    {
      "cell_type": "code",
      "execution_count": null,
      "metadata": {
        "id": "JAQGRLsBiFoL"
      },
      "outputs": [],
      "source": [
        "import torch\n",
        "import torchvision\n",
        "import torchvision.datasets as datasets\n",
        "from torchvision.transforms import ToTensor\n",
        "import torch.nn as nn\n",
        "from torch.utils.data import Dataset, DataLoader"
      ]
    },
    {
      "cell_type": "code",
      "source": [
        "mnist_train = datasets.MNIST(root='.', train=True, download=True, transform=ToTensor())\n",
        "mnist_test = datasets.MNIST(root='.', train=False, download=True, transform=ToTensor())"
      ],
      "metadata": {
        "colab": {
          "base_uri": "https://localhost:8080/"
        },
        "id": "Q4Lj9kZNmQAY",
        "outputId": "782e3973-0175-4079-a965-90478fcd7b75"
      },
      "execution_count": null,
      "outputs": [
        {
          "output_type": "stream",
          "name": "stdout",
          "text": [
            "Downloading http://yann.lecun.com/exdb/mnist/train-images-idx3-ubyte.gz\n",
            "Downloading http://yann.lecun.com/exdb/mnist/train-images-idx3-ubyte.gz to ./MNIST/raw/train-images-idx3-ubyte.gz\n"
          ]
        },
        {
          "output_type": "stream",
          "name": "stderr",
          "text": [
            "100%|██████████| 9912422/9912422 [00:00<00:00, 162130892.84it/s]"
          ]
        },
        {
          "output_type": "stream",
          "name": "stdout",
          "text": [
            "Extracting ./MNIST/raw/train-images-idx3-ubyte.gz to ./MNIST/raw\n"
          ]
        },
        {
          "output_type": "stream",
          "name": "stderr",
          "text": [
            "\n"
          ]
        },
        {
          "output_type": "stream",
          "name": "stdout",
          "text": [
            "\n",
            "Downloading http://yann.lecun.com/exdb/mnist/train-labels-idx1-ubyte.gz\n",
            "Downloading http://yann.lecun.com/exdb/mnist/train-labels-idx1-ubyte.gz to ./MNIST/raw/train-labels-idx1-ubyte.gz\n"
          ]
        },
        {
          "output_type": "stream",
          "name": "stderr",
          "text": [
            "100%|██████████| 28881/28881 [00:00<00:00, 31819199.85it/s]\n"
          ]
        },
        {
          "output_type": "stream",
          "name": "stdout",
          "text": [
            "Extracting ./MNIST/raw/train-labels-idx1-ubyte.gz to ./MNIST/raw\n",
            "\n",
            "Downloading http://yann.lecun.com/exdb/mnist/t10k-images-idx3-ubyte.gz\n",
            "Downloading http://yann.lecun.com/exdb/mnist/t10k-images-idx3-ubyte.gz to ./MNIST/raw/t10k-images-idx3-ubyte.gz\n"
          ]
        },
        {
          "output_type": "stream",
          "name": "stderr",
          "text": [
            "100%|██████████| 1648877/1648877 [00:00<00:00, 56065854.88it/s]\n"
          ]
        },
        {
          "output_type": "stream",
          "name": "stdout",
          "text": [
            "Extracting ./MNIST/raw/t10k-images-idx3-ubyte.gz to ./MNIST/raw\n",
            "\n",
            "Downloading http://yann.lecun.com/exdb/mnist/t10k-labels-idx1-ubyte.gz\n",
            "Downloading http://yann.lecun.com/exdb/mnist/t10k-labels-idx1-ubyte.gz to ./MNIST/raw/t10k-labels-idx1-ubyte.gz\n"
          ]
        },
        {
          "output_type": "stream",
          "name": "stderr",
          "text": [
            "100%|██████████| 4542/4542 [00:00<00:00, 15640828.22it/s]\n"
          ]
        },
        {
          "output_type": "stream",
          "name": "stdout",
          "text": [
            "Extracting ./MNIST/raw/t10k-labels-idx1-ubyte.gz to ./MNIST/raw\n",
            "\n"
          ]
        }
      ]
    },
    {
      "cell_type": "code",
      "source": [
        "train_data = DataLoader(mnist_train, batch_size=4, shuffle=True, num_workers=2)"
      ],
      "metadata": {
        "id": "yMuGEq_tmgXj"
      },
      "execution_count": null,
      "outputs": []
    },
    {
      "cell_type": "code",
      "source": [
        "test_data = DataLoader(mnist_test, batch_size=4, shuffle=True, num_workers=2)"
      ],
      "metadata": {
        "id": "lothPeYnyILO"
      },
      "execution_count": null,
      "outputs": []
    },
    {
      "cell_type": "code",
      "source": [
        "import matplotlib.pyplot as plt\n",
        "data = next(iter(train_data))\n",
        "imgs = data[0]\n",
        "labels = data[1]\n",
        "img = imgs[0].permute(1, 2, 0)\n",
        "plt.imshow(img)\n",
        "plt.xlabel(labels[0].item())"
      ],
      "metadata": {
        "colab": {
          "base_uri": "https://localhost:8080/",
          "height": 467
        },
        "id": "6wrpqf1Lmi7b",
        "outputId": "0dd8e08a-3dcd-4702-9c7e-979dc97f2fae"
      },
      "execution_count": null,
      "outputs": [
        {
          "output_type": "execute_result",
          "data": {
            "text/plain": [
              "Text(0.5, 0, '0')"
            ]
          },
          "metadata": {},
          "execution_count": 5
        },
        {
          "output_type": "display_data",
          "data": {
            "text/plain": [
              "<Figure size 640x480 with 1 Axes>"
            ],
            "image/png": "[encoded data removed]"
          },
          "metadata": {}
        }
      ]
    },
    {
      "cell_type": "code",
      "source": [
        "class CNN_classifier(nn.Module):\n",
        "  def __init__(self):\n",
        "    super().__init__()\n",
        "    self.conv1 = nn.Conv2d(1, 32, kernel_size=3, padding=1)\n",
        "    self.conv2 = nn.Conv2d(32, 128, kernel_size=3, padding=1)\n",
        "    self.dense1 = nn.Linear(7*7*128, 10)\n",
        "    self.act = nn.LeakyReLU(0.2)\n",
        "    self.regularize = nn.Dropout(0.3)\n",
        "  def forward(self, x):\n",
        "    x = self.conv1(x)\n",
        "    x = nn.MaxPool2d(2)(x)\n",
        "    x = self.act(x)\n",
        "    x = self.conv2(x)\n",
        "    x = nn.MaxPool2d(2)(x)\n",
        "    x = self.act(x)\n",
        "    x = x.view((x.shape[0], -1))\n",
        "    x = self.regularize(x)\n",
        "    x = self.dense1(x)\n",
        "\n",
        "    return nn.functional.log_softmax(x, dim=1)\n",
        "\n",
        "def test():\n",
        "  x = torch.randn((5, 1, 28, 28))\n",
        "  classifier = CNN_classifier()\n",
        "  output = classifier.forward(x)\n",
        "  print(output)\n",
        "\n",
        "test()"
      ],
      "metadata": {
        "colab": {
          "base_uri": "https://localhost:8080/"
        },
        "id": "VkUPEbjmogGE",
        "outputId": "4f2be4e4-c18d-4599-c34c-cf822e031c37"
      },
      "execution_count": null,
      "outputs": [
        {
          "output_type": "stream",
          "name": "stdout",
          "text": [
            "tensor([[-2.7127, -2.5308, -2.0415, -2.4499, -2.3458, -2.3542, -2.4041, -2.0022,\n",
            "         -2.6164, -1.9057],\n",
            "        [-2.6177, -2.4246, -1.9737, -2.5806, -2.1191, -2.5195, -2.3933, -2.1694,\n",
            "         -2.4128, -2.0552],\n",
            "        [-2.3859, -2.8167, -2.0499, -2.5122, -2.5175, -2.4786, -2.4926, -2.0491,\n",
            "         -2.1181, -1.9517],\n",
            "        [-2.3439, -2.6400, -2.1282, -2.2493, -2.0651, -2.7747, -2.4207, -2.0468,\n",
            "         -2.3307, -2.2657],\n",
            "        [-2.4223, -2.6168, -2.2079, -2.3438, -2.2351, -2.3514, -2.3019, -2.1392,\n",
            "         -2.1849, -2.3043]], grad_fn=<LogSoftmaxBackward0>)\n"
          ]
        }
      ]
    },
    {
      "cell_type": "code",
      "source": [
        "from tqdm import tqdm\n",
        "classifier = CNN_classifier().to('cuda')\n",
        "optimizer = torch.optim.Adam(classifier.parameters(), lr = 1e-4)\n",
        "\n",
        "def train(epoch):\n",
        "  classifier.train()\n",
        "  for batch_idx, (features, labels) in tqdm(enumerate(train_data)):\n",
        "    optimizer.zero_grad()\n",
        "    output = classifier(features.to('cuda'))\n",
        "    loss = nn.functional.nll_loss(output, labels.to('cuda'))\n",
        "    loss.backward()\n",
        "    optimizer.step()\n",
        "    if batch_idx % log_interval == 0:\n",
        "      train_losses.append(loss.item())\n",
        "      train_counter.append(\n",
        "        (batch_idx*64) + ((epoch-1)*len(train_data.dataset)))\n",
        "      torch.save(classifier.state_dict(), 'model.pth')\n",
        "      torch.save(optimizer.state_dict(), 'optimizer.pth')\n"
      ],
      "metadata": {
        "id": "5csnvdmjq9d5"
      },
      "execution_count": null,
      "outputs": []
    },
    {
      "cell_type": "code",
      "source": [
        "def test():\n",
        "  classifier.eval()\n",
        "  test_loss = 0\n",
        "  correct = 0\n",
        "  with torch.no_grad():\n",
        "    for data, target in test_data:\n",
        "      output = classifier(data.to('cuda'))\n",
        "      output = output.to('cpu')\n",
        "      test_loss += nn.functional.nll_loss(output, target).item()\n",
        "      pred = output.data.max(1, keepdim=True)[1]\n",
        "      correct += pred.eq(target.data.view_as(pred)).sum()\n",
        "  test_loss /= len(test_data.dataset)\n",
        "  test_losses.append(test_loss)"
      ],
      "metadata": {
        "id": "0ZvnyvXrx8nW"
      },
      "execution_count": null,
      "outputs": []
    },
    {
      "cell_type": "code",
      "source": [
        "train_losses = []\n",
        "train_counter = []\n",
        "test_losses = []\n",
        "n_epochs = 10\n",
        "log_interval = 10\n",
        "test_counter = [i*len(train_data.dataset) for i in range(n_epochs+1)]\n",
        "\n",
        "for epoch in range(n_epochs):\n",
        "  train(epoch)\n",
        "  test()"
      ],
      "metadata": {
        "colab": {
          "base_uri": "https://localhost:8080/"
        },
        "id": "oCnjLc4Gx0DM",
        "outputId": "47a832cf-613c-4462-e8f6-72eb3ed4be9d"
      },
      "execution_count": null,
      "outputs": [
        {
          "output_type": "stream",
          "name": "stderr",
          "text": [
            "15000it [01:19, 188.85it/s]\n",
            "15000it [01:08, 220.52it/s]\n",
            "15000it [01:07, 221.72it/s]\n",
            "15000it [01:07, 222.40it/s]\n",
            "15000it [01:07, 222.74it/s]\n",
            "15000it [01:06, 224.70it/s]\n",
            "15000it [01:05, 227.82it/s]\n",
            "15000it [01:07, 222.91it/s]\n",
            "15000it [01:07, 220.83it/s]\n",
            "15000it [01:07, 221.97it/s]\n"
          ]
        }
      ]
    },
    {
      "cell_type": "code",
      "source": [
        "import matplotlib.pyplot as plt\n",
        "fig, axs = plt.subplots(2)\n",
        "axs[0].plot(train_counter, train_losses)\n",
        "\n",
        "\n",
        "axs[1].plot(test_counter[1:], test_losses)\n",
        "plt.show()\n"
      ],
      "metadata": {
        "colab": {
          "base_uri": "https://localhost:8080/",
          "height": 430
        },
        "id": "zQFpOACwyT4j",
        "outputId": "9ce7c8af-6691-41f5-c0b9-16c43cbce3d8"
      },
      "execution_count": null,
      "outputs": [
        {
          "output_type": "display_data",
          "data": {
            "text/plain": [
              "<Figure size 640x480 with 2 Axes>"
            ],
            "image/png": "[encoded data removed]"
          },
          "metadata": {}
        }
      ]
    },
    {
      "cell_type": "code",
      "source": [
        "test = next(iter(test_data))\n",
        "img_test = test[0][0].view((1, 1, 28, 28))\n",
        "label_test = test[1][0]\n",
        "output = classifier(img_test.to('cuda'))\n",
        "img_test = img_test[0].permute((1, 2, 0))\n",
        "plt.imshow(img_test, cmap=plt.cm.binary)\n",
        "plt.xlabel(torch.argmax(output).item())"
      ],
      "metadata": {
        "colab": {
          "base_uri": "https://localhost:8080/",
          "height": 467
        },
        "id": "5n4ea2fN5OE2",
        "outputId": "04c2e12c-e041-4a37-f618-8a85490938a0"
      },
      "execution_count": null,
      "outputs": [
        {
          "output_type": "execute_result",
          "data": {
            "text/plain": [
              "Text(0.5, 0, '8')"
            ]
          },
          "metadata": {},
          "execution_count": 48
        },
        {
          "output_type": "display_data",
          "data": {
            "text/plain": [
              "<Figure size 640x480 with 1 Axes>"
            ],
            "image/png": "[encoded data removed]"
          },
          "metadata": {}
        }
      ]
    },
    {
      "cell_type": "code",
      "source": [
        "accuracy = []\n",
        "\n",
        "for idx, (features, labels) in enumerate(test_data):\n",
        "  output=classifier(features.to('cuda'))\n",
        "  output = output.to('cpu')\n",
        "  for i in range(len(output)):\n",
        "    if torch.argmax(output[i]) == labels[i]:\n",
        "      accuracy.append(1)\n",
        "    else:\n",
        "      accuracy.append(0)\n",
        "print(sum(accuracy)/ len(accuracy))"
      ],
      "metadata": {
        "colab": {
          "base_uri": "https://localhost:8080/"
        },
        "id": "00d4IAHj6T9T",
        "outputId": "634e3f7e-76a1-40cd-89d1-4e9d2c235c25"
      },
      "execution_count": null,
      "outputs": [
        {
          "output_type": "stream",
          "name": "stdout",
          "text": [
            "0.9895\n"
          ]
        }
      ]
    },
    {
      "cell_type": "code",
      "source": [
        "import numpy as np\n",
        "import pandas as pd\n",
        "dataframe = pd.read_csv('test.csv', header=0).to_numpy().astype(np.float32)\n",
        "dataframe = torch.from_numpy(dataframe).view(dataframe.shape[0], 1, 28, 28)\n",
        "print(dataframe.shape)"
      ],
      "metadata": {
        "colab": {
          "base_uri": "https://localhost:8080/"
        },
        "id": "k_bHvhmw8672",
        "outputId": "f6339da2-36b6-44a1-aae1-624c52e02793"
      },
      "execution_count": null,
      "outputs": [
        {
          "output_type": "stream",
          "name": "stdout",
          "text": [
            "torch.Size([28000, 1, 28, 28])\n"
          ]
        }
      ]
    },
    {
      "cell_type": "code",
      "source": [
        "classifier = classifier.to('cpu')\n",
        "output = classifier(dataframe.to('cpu'))\n",
        "output = output.to('cpu')\n",
        "print(output.shape)\n",
        "submission = pd.read_csv('sample_submission.csv', header=0)\n",
        "for i in range(len(output)):\n",
        "  submission['Label'][i] = torch.argmax(output[i])\n",
        "submission.head"
      ],
      "metadata": {
        "colab": {
          "base_uri": "https://localhost:8080/",
          "height": 240
        },
        "id": "mU9cseD-AzOw",
        "outputId": "80d6e0dc-bbc6-4de6-a96f-aa09226bd545"
      },
      "execution_count": null,
      "outputs": [
        {
          "output_type": "error",
          "ename": "NameError",
          "evalue": "ignored",
          "traceback": [
            "\u001b[0;31m---------------------------------------------------------------------------\u001b[0m",
            "\u001b[0;31mNameError\u001b[0m                                 Traceback (most recent call last)",
            "\u001b[0;32m<ipython-input-1-1c56fa29af68>\u001b[0m in \u001b[0;36m<cell line: 1>\u001b[0;34m()\u001b[0m\n\u001b[0;32m----> 1\u001b[0;31m \u001b[0mclassifier\u001b[0m \u001b[0;34m=\u001b[0m \u001b[0mclassifier\u001b[0m\u001b[0;34m.\u001b[0m\u001b[0mto\u001b[0m\u001b[0;34m(\u001b[0m\u001b[0;34m'cpu'\u001b[0m\u001b[0;34m)\u001b[0m\u001b[0;34m\u001b[0m\u001b[0;34m\u001b[0m\u001b[0m\n\u001b[0m\u001b[1;32m      2\u001b[0m \u001b[0moutput\u001b[0m \u001b[0;34m=\u001b[0m \u001b[0mclassifier\u001b[0m\u001b[0;34m(\u001b[0m\u001b[0mdataframe\u001b[0m\u001b[0;34m.\u001b[0m\u001b[0mto\u001b[0m\u001b[0;34m(\u001b[0m\u001b[0;34m'cpu'\u001b[0m\u001b[0;34m)\u001b[0m\u001b[0;34m)\u001b[0m\u001b[0;34m\u001b[0m\u001b[0;34m\u001b[0m\u001b[0m\n\u001b[1;32m      3\u001b[0m \u001b[0moutput\u001b[0m \u001b[0;34m=\u001b[0m \u001b[0moutput\u001b[0m\u001b[0;34m.\u001b[0m\u001b[0mto\u001b[0m\u001b[0;34m(\u001b[0m\u001b[0;34m'cpu'\u001b[0m\u001b[0;34m)\u001b[0m\u001b[0;34m\u001b[0m\u001b[0;34m\u001b[0m\u001b[0m\n\u001b[1;32m      4\u001b[0m \u001b[0mprint\u001b[0m\u001b[0;34m(\u001b[0m\u001b[0moutput\u001b[0m\u001b[0;34m.\u001b[0m\u001b[0mshape\u001b[0m\u001b[0;34m)\u001b[0m\u001b[0;34m\u001b[0m\u001b[0;34m\u001b[0m\u001b[0m\n\u001b[1;32m      5\u001b[0m \u001b[0msubmission\u001b[0m \u001b[0;34m=\u001b[0m \u001b[0mpd\u001b[0m\u001b[0;34m.\u001b[0m\u001b[0mread_csv\u001b[0m\u001b[0;34m(\u001b[0m\u001b[0;34m'sample_submission.csv'\u001b[0m\u001b[0;34m,\u001b[0m \u001b[0mheader\u001b[0m\u001b[0;34m=\u001b[0m\u001b[0;36m0\u001b[0m\u001b[0;34m)\u001b[0m\u001b[0;34m\u001b[0m\u001b[0;34m\u001b[0m\u001b[0m\n",
            "\u001b[0;31mNameError\u001b[0m: name 'classifier' is not defined"
          ]
        }
      ]
    },
    {
      "cell_type": "code",
      "source": [],
      "metadata": {
        "id": "907IDT4EDuQf"
      },
      "execution_count": null,
      "outputs": []
    }
  ]
}